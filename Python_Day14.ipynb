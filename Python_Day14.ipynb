{
 "cells": [
  {
   "cell_type": "code",
   "execution_count": 9,
   "id": "4c00acf1",
   "metadata": {},
   "outputs": [
    {
     "name": "stdout",
     "output_type": "stream",
     "text": [
      "Hello,\n",
      "\n",
      "My name is Atharva \n"
     ]
    }
   ],
   "source": [
    "with open('Python_Day14 task.txt') as x_object:\n",
    "      y = x_object.read()\n",
    "print(y)"
   ]
  },
  {
   "cell_type": "code",
   "execution_count": null,
   "id": "8e9db0be",
   "metadata": {},
   "outputs": [],
   "source": []
  },
  {
   "cell_type": "code",
   "execution_count": 10,
   "id": "10e4c4ac",
   "metadata": {},
   "outputs": [],
   "source": [
    "file = 'Python_Day14 task.txt'"
   ]
  },
  {
   "cell_type": "code",
   "execution_count": 11,
   "id": "4ac5bb04",
   "metadata": {},
   "outputs": [
    {
     "name": "stdout",
     "output_type": "stream",
     "text": [
      "Hello,\n",
      "\n",
      "My name is Atharva \n"
     ]
    }
   ],
   "source": [
    "with open(file) as z:\n",
    "    con = z.read()\n",
    "print(con)"
   ]
  },
  {
   "cell_type": "code",
   "execution_count": null,
   "id": "ce6931d9",
   "metadata": {},
   "outputs": [],
   "source": []
  },
  {
   "cell_type": "code",
   "execution_count": 15,
   "id": "fd9bf53e",
   "metadata": {},
   "outputs": [],
   "source": [
    "with open(file,'w') as g:\n",
    "    g.write(\"Python is the most demanding prog language\")"
   ]
  },
  {
   "cell_type": "code",
   "execution_count": null,
   "id": "4d8985dc",
   "metadata": {},
   "outputs": [],
   "source": []
  },
  {
   "cell_type": "code",
   "execution_count": 16,
   "id": "53580600",
   "metadata": {},
   "outputs": [
    {
     "name": "stdout",
     "output_type": "stream",
     "text": [
      "Python is the most demanding prog language\n"
     ]
    }
   ],
   "source": [
    "with open(file) as z:\n",
    "    con = z.read()\n",
    "print(con)"
   ]
  }
 ],
 "metadata": {
  "kernelspec": {
   "display_name": "Python 3 (ipykernel)",
   "language": "python",
   "name": "python3"
  },
  "language_info": {
   "codemirror_mode": {
    "name": "ipython",
    "version": 3
   },
   "file_extension": ".py",
   "mimetype": "text/x-python",
   "name": "python",
   "nbconvert_exporter": "python",
   "pygments_lexer": "ipython3",
   "version": "3.9.7"
  }
 },
 "nbformat": 4,
 "nbformat_minor": 5
}
